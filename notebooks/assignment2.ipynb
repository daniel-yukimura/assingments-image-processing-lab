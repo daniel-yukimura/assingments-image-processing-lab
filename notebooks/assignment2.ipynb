{
 "cells": [
  {
   "cell_type": "markdown",
   "metadata": {},
   "source": [
    "## Assignment 2: Classification\n",
    "\n",
    "This notebook contains examples, plus the exercises for the second assignment, which should be submitted as instructed in the assignments [page](https://daniel-yukimura.github.io/assingments-image-processing-lab/).<br>\n",
    "\n",
    "In this assignment we'll apply some of the methods we have seen in class for designing and training neural networks.\n",
    "\n",
    "### Example: MNIST classifier.\n",
    "\n",
    "MNIST, is a famous dataset containing 70,000 grayscale hand-written digits (0-9) and their associated values. PyTorch **torchvision.dataset** gives us access to a few datasets including this one. The dataset is divided as 60,000 training images and 10,000 for the test set.<br>\n",
    "Our goal is to construct a neural network classifier that can read the digits in the image. This example should be seen as a starting point for the assignment exercises."
   ]
  },
  {
   "cell_type": "code",
   "execution_count": 2,
   "metadata": {},
   "outputs": [],
   "source": [
    "import torch\n",
    "import torchvision\n",
    "import torchvision.transforms as transforms\n",
    "\n",
    "#hyperparameter:\n",
    "batch_size = 100\n",
    "\n",
    "# MNIST dataset \n",
    "train_dataset = torchvision.datasets.MNIST(root='../../data', \n",
    "                                           train=True, \n",
    "                                           transform=transforms.ToTensor(),  \n",
    "                                           download=True)\n",
    "\n",
    "test_dataset = torchvision.datasets.MNIST(root='../../data', \n",
    "                                          train=False, \n",
    "                                          transform=transforms.ToTensor())\n",
    "\n",
    "# Data loader\n",
    "train_loader = torch.utils.data.DataLoader(dataset=train_dataset, \n",
    "                                           batch_size=batch_size, \n",
    "                                           shuffle=True)\n",
    "\n",
    "test_loader = torch.utils.data.DataLoader(dataset=test_dataset, \n",
    "                                          batch_size=batch_size, \n",
    "                                          shuffle=False)\n",
    "\n",
    "classes = ('0','1','2','3','4','5','6','7','8','9')"
   ]
  },
  {
   "cell_type": "code",
   "execution_count": 3,
   "metadata": {},
   "outputs": [
    {
     "name": "stdout",
     "output_type": "stream",
     "text": [
      "    3     1     5     4     6     5     4     8\n"
     ]
    },
    {
     "data": {
      "image/png": "[encoded data removed]",
      "text/plain": [
       "<Figure size 432x288 with 1 Axes>"
      ]
     },
     "metadata": {},
     "output_type": "display_data"
    }
   ],
   "source": [
    "# This code will plot some examples\n",
    "import matplotlib.pyplot as plt\n",
    "%matplotlib inline\n",
    "import numpy as np\n",
    "\n",
    "\n",
    "def imshow(img):\n",
    "#     img = img / 2 + 0.5     # unnormalize\n",
    "    npimg = img.numpy()\n",
    "    plt.imshow(np.transpose(npimg, (1, 2, 0)))\n",
    "\n",
    "\n",
    "# get some random training images\n",
    "dataiter = iter(train_loader)\n",
    "images, labels = dataiter.next()\n",
    "\n",
    "# show images\n",
    "imshow(torchvision.utils.make_grid(images[0:8]))\n",
    "# print labels\n",
    "print(' '.join('%5s' % classes[labels[j]] for j in range(8)))"
   ]
  },
  {
   "cell_type": "code",
   "execution_count": 6,
   "metadata": {},
   "outputs": [],
   "source": [
    "import torch.nn as nn\n",
    "import torch.nn.functional as F\n",
    "# Fully connected neural network with one hidden layer\n",
    "class NeuralNet(nn.Module):\n",
    "    def __init__(self, input_size, hidden_size, num_classes):\n",
    "        super(NeuralNet, self).__init__()\n",
    "        self.fc1 = nn.Linear(input_size, hidden_size) \n",
    "        self.relu = nn.ReLU()\n",
    "        self.fc2 = nn.Linear(hidden_size, num_classes)  \n",
    "    \n",
    "    def forward(self, x):\n",
    "        out = self.fc1(x)\n",
    "        out = self.relu(out)\n",
    "        out = self.fc2(out)\n",
    "        return out"
   ]
  },
  {
   "cell_type": "code",
   "execution_count": 7,
   "metadata": {},
   "outputs": [],
   "source": [
    "# hyperparameters\n",
    "input_size = 784\n",
    "hidden_size = 500\n",
    "num_classes = 10\n",
    "num_epochs = 5\n",
    "learning_rate = 0.1\n",
    "#creating model\n",
    "model = NeuralNet(input_size, hidden_size, num_classes)\n",
    "\n",
    "# Loss and optimizer\n",
    "criterion = nn.CrossEntropyLoss()\n",
    "optimizer = torch.optim.SGD(model.parameters(), lr=learning_rate)"
   ]
  },
  {
   "cell_type": "code",
   "execution_count": 8,
   "metadata": {},
   "outputs": [
    {
     "name": "stdout",
     "output_type": "stream",
     "text": [
      "Epoch [1/5], Step [100/600], Loss: 0.7229\n",
      "Epoch [1/5], Step [200/600], Loss: 0.4161\n",
      "Epoch [1/5], Step [300/600], Loss: 0.3334\n",
      "Epoch [1/5], Step [400/600], Loss: 0.3137\n",
      "Epoch [1/5], Step [500/600], Loss: 0.3406\n",
      "Epoch [1/5], Step [600/600], Loss: 0.3054\n",
      "Epoch [2/5], Step [100/600], Loss: 0.1413\n",
      "Epoch [2/5], Step [200/600], Loss: 0.3348\n",
      "Epoch [2/5], Step [300/600], Loss: 0.4180\n",
      "Epoch [2/5], Step [400/600], Loss: 0.2555\n",
      "Epoch [2/5], Step [500/600], Loss: 0.1619\n",
      "Epoch [2/5], Step [600/600], Loss: 0.1447\n",
      "Epoch [3/5], Step [100/600], Loss: 0.2768\n",
      "Epoch [3/5], Step [200/600], Loss: 0.1887\n",
      "Epoch [3/5], Step [300/600], Loss: 0.1791\n",
      "Epoch [3/5], Step [400/600], Loss: 0.1806\n",
      "Epoch [3/5], Step [500/600], Loss: 0.2878\n",
      "Epoch [3/5], Step [600/600], Loss: 0.1790\n",
      "Epoch [4/5], Step [100/600], Loss: 0.1534\n",
      "Epoch [4/5], Step [200/600], Loss: 0.1794\n",
      "Epoch [4/5], Step [300/600], Loss: 0.2331\n",
      "Epoch [4/5], Step [400/600], Loss: 0.2594\n",
      "Epoch [4/5], Step [500/600], Loss: 0.1295\n",
      "Epoch [4/5], Step [600/600], Loss: 0.2837\n",
      "Epoch [5/5], Step [100/600], Loss: 0.1240\n",
      "Epoch [5/5], Step [200/600], Loss: 0.1261\n",
      "Epoch [5/5], Step [300/600], Loss: 0.1663\n",
      "Epoch [5/5], Step [400/600], Loss: 0.0848\n",
      "Epoch [5/5], Step [500/600], Loss: 0.1889\n",
      "Epoch [5/5], Step [600/600], Loss: 0.2972\n"
     ]
    }
   ],
   "source": [
    "# Train the model\n",
    "total_step = len(train_loader)\n",
    "for epoch in range(num_epochs):\n",
    "    for i, (images, labels) in enumerate(train_loader):  \n",
    "        # Move tensors to the configured device\n",
    "        images = images.reshape(-1, 28*28)\n",
    "        labels = labels\n",
    "        \n",
    "        # Forward pass\n",
    "        outputs = model(images)\n",
    "        loss = criterion(outputs, labels)\n",
    "        \n",
    "        # Backward and optimize\n",
    "        optimizer.zero_grad()\n",
    "        loss.backward()\n",
    "        optimizer.step()\n",
    "        \n",
    "        if (i+1) % 100 == 0:\n",
    "            print ('Epoch [{}/{}], Step [{}/{}], Loss: {:.4f}' \n",
    "                   .format(epoch+1, num_epochs, i+1, total_step, loss.item()))"
   ]
  },
  {
   "cell_type": "code",
   "execution_count": 9,
   "metadata": {},
   "outputs": [
    {
     "name": "stdout",
     "output_type": "stream",
     "text": [
      "Accuracy of the network on the 10000 test images: 96.16 %\n"
     ]
    }
   ],
   "source": [
    "with torch.no_grad():\n",
    "    correct = 0\n",
    "    total = 0\n",
    "    for images, labels in test_loader:\n",
    "        images = images.reshape(-1, 28*28)\n",
    "        labels = labels\n",
    "        outputs = model(images)\n",
    "        _, predicted = torch.max(outputs.data, 1)\n",
    "        total += labels.size(0)\n",
    "        correct += (predicted == labels).sum().item()\n",
    "\n",
    "    print('Accuracy of the network on the 10000 test images: {} %'.format(100 * correct / total))\n",
    "\n",
    "# Save the model checkpoint\n",
    "torch.save(model.state_dict(), 'model.ckpt')"
   ]
  },
  {
   "cell_type": "markdown",
   "metadata": {},
   "source": [
    "### Exercise 1: Improving the MNIST classifier\n",
    "\n",
    "In this exercise we want to improve our classifier's performance and apply some of the techniques presented in class.<br>\n",
    "You should follow each of the following points, and comment on the improvements or issues caused by the changes. After completing the steps you should explain which setting works best. In this part you can apply your own modifications, and feel free to look up online for suggestions.\n",
    "* Create a deeper network, test performance using 2 and 4 layers (you can try something like $500\\times250$ and $500\\times250\\times100\\times25$).\n",
    "* Change the optimization method to **torch.optim.Adam**. Test it with both the one hidden layer model and multiple layers. You'll probably need to lower your **learning_rate**, observe how this is relevant when the number of layers is higher.\n",
    "* Add dropout layers and observe how this affects performance."
   ]
  },
  {
   "cell_type": "markdown",
   "metadata": {},
   "source": [
    "### Exercise 2: CIFAR dataset\n",
    "\n",
    "This time we'll use another dataset, the CIFAR10, also provided by the torchvision library. It contains images referent to classes: ‘airplane’, ‘automobile’, ‘bird’, ‘cat’, ‘deer’, ‘dog’, ‘frog’, ‘horse’, ‘ship’, ‘truck’. The images in CIFAR-10 are of size 3x32x32, i.e. 3-channel color images of 32x32 pixels in size.\n",
    "\n",
    "* Load the images as shown before, and use the fully-connected model you think is appropriated (the one you chose in exercise 1).\n",
    "* Next, create a convolutional network with the following architecture:\n",
    "  - Convolution with 5 by 5 filters, 16 feature maps + Tanh nonlinearity.\n",
    "  - 2 by 2 max pooling.\n",
    "  - Convolution with 5 by 5 filters, 128 feature maps + Tanh nonlinearity.\n",
    "  - 2 by 2 max pooling.\n",
    "  - Flatten to vector.\n",
    "  - Linear layer with 64 hidden units + Tanh nonlinearity.\n",
    "  - Linear layer to 10 output units.\n",
    "* Train it for 20 epochs on the CIFAR-10 training set and test performance.\n",
    "* Use different techniques to visualize performance. \n",
    "  - Create a function that shows examples from test set with true and predicted label\n",
    "  - Plot the confusion matrix of your results.\n",
    "  - Plot the images with worst performance, i.e. where it the network missclassified and the confidence of the network was low, i.e. the output probability was low.\n",
    "  - (extra)  Add code to plot out the network weights as images, to visualize how the weights respond to an image.\n",
    "  \n",
    "  \n",
    "You can check [here](https://pytorch.org/tutorials/beginner/blitz/cifar10_tutorial.html#sphx-glr-beginner-blitz-cifar10-tutorial-py) for some help.\n"
   ]
  },
  {
   "cell_type": "markdown",
   "metadata": {},
   "source": [
    "### Exercise 3: Dogs vs Cats\n",
    "\n",
    "Download the dataset on [http://files.fast.ai/data/dogscats.zip](http://files.fast.ai/data/dogscats.zip), there are 25,000 labelled dog and cat photos available for training, and 12,500 in the test set that you have to try to label. This time you will need to figure out a way to read and tranform the images into tensors.\n",
    "\n",
    "* Train a CNN classifier on this dataset, you can start from the model suggested on exercise 2.\n",
    "* Try to improve your result adding regularization (dropout for example).\n",
    "* Repeat the visualization part from exercise 2."
   ]
  },
  {
   "cell_type": "code",
   "execution_count": null,
   "metadata": {},
   "outputs": [],
   "source": []
  }
 ],
 "metadata": {
  "kernelspec": {
   "display_name": "Python [conda env:image-processing-lab]",
   "language": "python",
   "name": "conda-env-image-processing-lab-py"
  },
  "language_info": {
   "codemirror_mode": {
    "name": "ipython",
    "version": 3
   },
   "file_extension": ".py",
   "mimetype": "text/x-python",
   "name": "python",
   "nbconvert_exporter": "python",
   "pygments_lexer": "ipython3",
   "version": "3.7.0"
  }
 },
 "nbformat": 4,
 "nbformat_minor": 2
}
